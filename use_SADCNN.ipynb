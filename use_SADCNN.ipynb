{
 "cells": [
  {
   "cell_type": "code",
   "id": "initial_id",
   "metadata": {
    "collapsed": true,
    "ExecuteTime": {
     "end_time": "2024-04-24T11:41:40.715779Z",
     "start_time": "2024-04-24T11:41:40.712389Z"
    }
   },
   "source": [
    "import os\n",
    "from tqdm import tqdm\n",
    "data_dir = 'dataset/val/image_gray'"
   ],
   "outputs": [],
   "execution_count": 43
  },
  {
   "metadata": {
    "ExecuteTime": {
     "end_time": "2024-04-24T11:41:41.162376Z",
     "start_time": "2024-04-24T11:41:41.146523Z"
    }
   },
   "cell_type": "code",
   "source": [
    "import torch.nn as nn\n",
    "import torch\n",
    "\n",
    "def _weights_init(m):\n",
    "    if isinstance(m, nn.Conv2d):\n",
    "        nn.init.xavier_uniform_(m.weight)\n",
    "        if m.bias is not None:\n",
    "            torch.nn.init.zeros_(m.bias)\n",
    "    elif isinstance(m, nn.ConvTranspose2d):\n",
    "        nn.init.xavier_uniform_(m.weight)\n",
    "        if m.bias is not None:\n",
    "            torch.nn.init.zeros_(m.bias)\n",
    "    elif isinstance(m, nn.BatchNorm2d):\n",
    "        m.weight.data.fill_(1)\n",
    "        m.bias.data.zero_()\n",
    "    elif isinstance(m, nn.Linear):\n",
    "        m.weight.data.normal_(0, 0.01)\n",
    "        m.bias.data.zero_()\n",
    "\n",
    "class Block(nn.Module):\n",
    "    def __init__(self,in_channel,out_channel):\n",
    "        super(Block,self).__init__()\n",
    "        self.block = nn.Sequential(\n",
    "            nn.Conv2d(in_channel,out_channel,5,1,2),\n",
    "            nn.ReLU(inplace=True),\n",
    "        )\n",
    "        self.apply(_weights_init)\n",
    "    def forward(self,x):\n",
    "        x = self.block(x)\n",
    "        return x\n",
    "\n",
    "class DCNN(nn.Module):\n",
    "    def __init__(self,block_num):\n",
    "        super(DCNN,self).__init__()\n",
    "        self.input = nn.Sequential(\n",
    "            nn.Conv2d(1,64,5,1,2),\n",
    "            nn.ReLU(inplace=True),\n",
    "        )\n",
    "        self.blocks = nn.ModuleList()\n",
    "        for _ in range(block_num-1):\n",
    "            self.blocks.append(Block(64,64))\n",
    "        self.out = nn.Sequential(\n",
    "            nn.Conv2d(64,1,5,1,2),\n",
    "        )\n",
    "        self.apply(_weights_init)\n",
    "    def forward(self,x):\n",
    "        x = self.input(x)\n",
    "        for block in self.blocks:\n",
    "            x = block(x)\n",
    "        x = self.out(x)\n",
    "        return x\n",
    "\n",
    "class RS(nn.Module):\n",
    "    def __init__(self,block_num):\n",
    "        super(RS,self).__init__()\n",
    "        self.IRS = DCNN(16)\n",
    "        self.ISMP = DCNN(6)\n",
    "        self.input = nn.Sequential(\n",
    "            nn.Conv2d(3,64,5,1,2),\n",
    "            nn.ReLU(inplace=True),\n",
    "        )\n",
    "        self.blocks = nn.ModuleList()\n",
    "        for _ in range(block_num-1):\n",
    "            self.blocks.append(Block(64,64))\n",
    "        self.out = nn.Sequential(\n",
    "            nn.Conv2d(64,1,5,1,2),\n",
    "        )\n",
    "        self.apply(_weights_init)\n",
    "\n",
    "    def initModel(self,device):\n",
    "        state_dict = torch.load('./model/IRS_best_psnr.pkl',map_location=device)\n",
    "        self.IRS.load_state_dict(state_dict['model'],strict=False)\n",
    "        print('IRS model load done, epoch:%d, best_loss:%f, best psnr:%f'\n",
    "              % (state_dict['epoch'],state_dict['best_loss'],state_dict['best_psnr']))\n",
    "\n",
    "    def forward(self,x):\n",
    "        map1 = self.IRS(x)\n",
    "        map2 = self.ISMP(map1)\n",
    "        y = self.input(torch.cat((x,map1,map2),1))\n",
    "        for block in self.blocks:\n",
    "            y = block(y)\n",
    "        out = self.out(y)\n",
    "        return map2,out\n",
    "\n",
    "# 接着RS，使用RS的输出作为GRS的输入，进行最终的图像生成\n",
    "class GRS(nn.Module):\n",
    "    def __init__(self,block_num):\n",
    "        super(GRS,self).__init__()\n",
    "        self.RS = RS(16)\n",
    "        self.GS = DCNN(16)\n",
    "        self.input = nn.Sequential(\n",
    "            nn.Conv2d(1,64,5,1,2),\n",
    "            nn.ReLU(inplace=True),\n",
    "        )\n",
    "        self.blocks = nn.ModuleList()\n",
    "        for _ in range(block_num-1):\n",
    "            self.blocks.append(Block(64,64))\n",
    "        self.out = nn.Sequential(\n",
    "            nn.Conv2d(64,1,5,1,2),\n",
    "        )\n",
    "        self.apply(_weights_init)\n",
    "\n",
    "    def initModel(self,device):\n",
    "        state_dict = torch.load('./model/RS_best_psnr_ori - 副本.pkl',map_location=device)\n",
    "        self.RS.load_state_dict(state_dict['model'],strict=False)\n",
    "        print('RS model load done, epoch:%d, best_loss:%f, best psnr:%f'\n",
    "              % (state_dict['epoch'],state_dict['best_loss'],state_dict['best_psnr']))\n",
    "\n",
    "    def forward(self,x):\n",
    "        _,out = self.RS(x)\n",
    "        out = self.GS(out)\n",
    "        y = self.input(out)\n",
    "        for block in self.blocks:\n",
    "            y = block(y)\n",
    "        out = self.out(y)\n",
    "        return out\n",
    "\n"
   ],
   "id": "8cfeb958a7a402e2",
   "outputs": [],
   "execution_count": 44
  },
  {
   "metadata": {
    "ExecuteTime": {
     "end_time": "2024-04-24T11:41:41.797895Z",
     "start_time": "2024-04-24T11:41:41.795200Z"
    }
   },
   "cell_type": "code",
   "source": "device = \"cuda\" if torch.cuda.is_available() else \"cpu\"",
   "id": "405ede1af6877c51",
   "outputs": [],
   "execution_count": 45
  },
  {
   "metadata": {
    "ExecuteTime": {
     "end_time": "2024-04-24T11:41:42.229202Z",
     "start_time": "2024-04-24T11:41:42.224753Z"
    }
   },
   "cell_type": "code",
   "source": [
    "import cv2\n",
    "import numpy as np\n",
    "from torchvision import transforms\n",
    "import torch\n",
    "from PIL import Image\n",
    "# Define the transformation\n",
    "transform = transforms.Compose([\n",
    "    transforms.ToTensor(),  # Convert image to PyTorch Tensor\n",
    "    transforms.Normalize(mean=[0.5], std=[0.5])  # Normalize to [-1,1]\n",
    "])"
   ],
   "id": "754fe03626032fe4",
   "outputs": [],
   "execution_count": 46
  },
  {
   "metadata": {
    "ExecuteTime": {
     "end_time": "2024-04-24T11:44:08.065512Z",
     "start_time": "2024-04-24T11:44:06.695812Z"
    }
   },
   "cell_type": "code",
   "source": [
    "model = RS(16).to(device)\n",
    "state_dict = torch.load('./model/RS_best_psnr_ori - 副本.pkl', map_location=device)\n",
    "model.load_state_dict(state_dict['model'], strict=False)\n",
    "print('RS model load done, epoch:%d, best_loss:%f, best psnr:%f'\n",
    "      % (state_dict['epoch'], state_dict['best_loss'], state_dict['best_psnr']))\n",
    "model.eval()\n",
    "PSNR = []\n",
    "with torch.no_grad(): \n",
    "    for img in tqdm(os.listdir(data_dir)[2:3]):\n",
    "        ht_img_path = os.path.join('./dataset/val/image_gray',img)\n",
    "        image = Image.open(ht_img_path)\n",
    "        image = transform(image)\n",
    "        image = image.unsqueeze(0)\n",
    "        map2, out = model(image.to(device))\n",
    "        out = torch.tanh(out)\n",
    "        out = (out + 1) * 127.5\n",
    "        if out.is_cuda:\n",
    "            out = out.cpu()\n",
    "        out = out.numpy()\n",
    "        for im in out:\n",
    "            im = np.transpose(im, (1, 2, 0))\n",
    "            im = np.squeeze(im)        \n",
    "            im = cv2.equalizeHist(im.astype(np.uint8))\n",
    "            cv2.imwrite('out.png', im)\n"
   ],
   "id": "740b1f20d6b3aa28",
   "outputs": [
    {
     "name": "stdout",
     "output_type": "stream",
     "text": [
      "RS model load done, epoch:395, best_loss:-1.000000, best psnr:30.509077\n"
     ]
    },
    {
     "name": "stderr",
     "output_type": "stream",
     "text": [
      "100%|██████████| 1/1 [00:01<00:00,  1.30s/it]\n"
     ]
    }
   ],
   "execution_count": 49
  },
  {
   "metadata": {},
   "cell_type": "code",
   "outputs": [],
   "execution_count": null,
   "source": "",
   "id": "ce0c13b541216ffd"
  }
 ],
 "metadata": {
  "kernelspec": {
   "display_name": "Python 3",
   "language": "python",
   "name": "python3"
  },
  "language_info": {
   "codemirror_mode": {
    "name": "ipython",
    "version": 2
   },
   "file_extension": ".py",
   "mimetype": "text/x-python",
   "name": "python",
   "nbconvert_exporter": "python",
   "pygments_lexer": "ipython2",
   "version": "2.7.6"
  }
 },
 "nbformat": 4,
 "nbformat_minor": 5
}
