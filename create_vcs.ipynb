{
 "cells": [
  {
   "metadata": {
    "ExecuteTime": {
     "end_time": "2024-04-24T10:32:54.462836Z",
     "start_time": "2024-04-24T10:32:54.459410Z"
    }
   },
   "cell_type": "code",
   "source": [
    "import os\n",
    "from  PIL import Image\n",
    "from tqdm import tqdm\n",
    "import numpy as np"
   ],
   "id": "817b986e24cdf820",
   "outputs": [],
   "execution_count": 6
  },
  {
   "metadata": {
    "ExecuteTime": {
     "end_time": "2024-04-24T10:52:06.192997Z",
     "start_time": "2024-04-24T10:52:06.189647Z"
    }
   },
   "cell_type": "code",
   "source": "data_dir = \"./dataset/val\"",
   "id": "799aecf7375a621b",
   "outputs": [],
   "execution_count": 10
  },
  {
   "metadata": {
    "ExecuteTime": {
     "end_time": "2024-04-24T10:52:09.624195Z",
     "start_time": "2024-04-24T10:52:08.814433Z"
    }
   },
   "cell_type": "code",
   "source": [
    "for img in tqdm(os.listdir(os.path.join(data_dir,\"gt_gray\"))):\n",
    "    t =img\n",
    "    img_path = os.path.join(data_dir,\"gt_gray\",img)\n",
    "    img = Image.open(img_path)\n",
    "    img = np.array(img)\n",
    "    img = np.interp(img, (0, 255), (0, 255/4))\n",
    "    img = img.astype(np.uint8)\n",
    "    img = Image.fromarray(img)\n",
    "    img.save(os.path.join(data_dir,\"gt_gray - 副本\",t))"
   ],
   "id": "1637626c2b3fcd58",
   "outputs": [
    {
     "name": "stderr",
     "output_type": "stream",
     "text": [
      "100%|██████████| 100/100 [00:00<00:00, 124.37it/s]\n"
     ]
    }
   ],
   "execution_count": 11
  },
  {
   "metadata": {},
   "cell_type": "code",
   "outputs": [],
   "execution_count": null,
   "source": "",
   "id": "3a4545c445feaa00"
  }
 ],
 "metadata": {
  "kernelspec": {
   "display_name": "Python 3",
   "language": "python",
   "name": "python3"
  },
  "language_info": {
   "codemirror_mode": {
    "name": "ipython",
    "version": 2
   },
   "file_extension": ".py",
   "mimetype": "text/x-python",
   "name": "python",
   "nbconvert_exporter": "python",
   "pygments_lexer": "ipython2",
   "version": "2.7.6"
  }
 },
 "nbformat": 4,
 "nbformat_minor": 5
}
