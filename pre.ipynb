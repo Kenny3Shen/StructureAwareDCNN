{
 "cells": [
  {
   "cell_type": "code",
   "id": "initial_id",
   "metadata": {
    "collapsed": true,
    "ExecuteTime": {
     "end_time": "2024-04-23T06:55:31.244301Z",
     "start_time": "2024-04-23T06:55:31.215860Z"
    }
   },
   "source": [
    "import os\n",
    "from PIL import Image"
   ],
   "outputs": [],
   "execution_count": 2
  },
  {
   "metadata": {
    "ExecuteTime": {
     "end_time": "2024-04-23T06:55:55.775069Z",
     "start_time": "2024-04-23T06:55:55.771976Z"
    }
   },
   "cell_type": "code",
   "source": "data_dir = \"./dataset/val\"",
   "id": "6a27f4d8d3206714",
   "outputs": [],
   "execution_count": 3
  },
  {
   "metadata": {
    "ExecuteTime": {
     "end_time": "2024-04-23T06:57:22.831230Z",
     "start_time": "2024-04-23T06:57:22.416726Z"
    }
   },
   "cell_type": "code",
   "source": [
    "for img in os.listdir(os.path.join(data_dir, \"gt_gray\")):\n",
    "    img_path = os.path.join(data_dir, \"gt_gray\", img)\n",
    "    img = Image.open(img_path).resize((256, 256))\n",
    "    img = img.convert(\"L\")\n",
    "    img.save(img_path)"
   ],
   "id": "8e1b5eb2af6f199a",
   "outputs": [],
   "execution_count": 5
  },
  {
   "metadata": {
    "ExecuteTime": {
     "end_time": "2024-04-23T06:58:04.132767Z",
     "start_time": "2024-04-23T06:58:04.112535Z"
    }
   },
   "cell_type": "code",
   "source": [
    "for (i, img) in enumerate(os.listdir(os.path.join(data_dir, \"gt_gray\"))):\n",
    "    img_path = os.path.join(data_dir, \"gt_gray\", img)\n",
    "    os.rename(img_path, os.path.join(data_dir, \"gt_gray\", f\"{i:03d}.png\"))"
   ],
   "id": "f907ae63a3cd7e2c",
   "outputs": [],
   "execution_count": 6
  },
  {
   "metadata": {
    "ExecuteTime": {
     "end_time": "2024-04-23T06:58:41.055872Z",
     "start_time": "2024-04-23T06:58:41.052433Z"
    }
   },
   "cell_type": "code",
   "source": [
    "with open (os.path.join(data_dir, \"image_pair.txt\"), \"w\") as f:\n",
    "    for img in os.listdir(os.path.join(data_dir, \"gt_gray\")):\n",
    "        f.write(f\"{img} {img}\\n\")"
   ],
   "id": "f533533030b75a28",
   "outputs": [],
   "execution_count": 7
  },
  {
   "metadata": {},
   "cell_type": "code",
   "outputs": [],
   "execution_count": null,
   "source": "",
   "id": "b7393edf49ddb27d"
  }
 ],
 "metadata": {
  "kernelspec": {
   "display_name": "Python 3",
   "language": "python",
   "name": "python3"
  },
  "language_info": {
   "codemirror_mode": {
    "name": "ipython",
    "version": 2
   },
   "file_extension": ".py",
   "mimetype": "text/x-python",
   "name": "python",
   "nbconvert_exporter": "python",
   "pygments_lexer": "ipython2",
   "version": "2.7.6"
  }
 },
 "nbformat": 4,
 "nbformat_minor": 5
}
